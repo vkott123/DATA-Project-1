{
 "cells": [
  {
   "cell_type": "code",
   "execution_count": 1,
   "metadata": {},
   "outputs": [],
   "source": [
    "%matplotlib notebook"
   ]
  },
  {
   "cell_type": "code",
   "execution_count": 2,
   "metadata": {},
   "outputs": [],
   "source": [
    "# Dependencies\n",
    "\n",
    "import numpy as np\n",
    "import pandas as pd\n",
    "import matplotlib.pyplot as plt\n",
    "import os"
   ]
  },
  {
   "cell_type": "code",
   "execution_count": 5,
   "metadata": {},
   "outputs": [],
   "source": [
    "\n",
    "# Take in all of our name data and read it into pandas\n",
    "yob1991 = \"DATA SET/yob1991.csv\"\n",
    "yob1992 = \"DATA SET/yob1992.csv\"\n",
    "yob1993 = \"DATA SET/yob1993.csv\"\n",
    "yob1994 = \"DATA SET/yob1994.csv\"\n",
    "yob1995 = \"DATA SET/yob1995.csv\"\n",
    "yob1996 = \"DATA SET/yob1996.csv\"\n",
    "yob1997 = \"DATA SET/yob1997.csv\"\n",
    "yob1998 = \"DATA SET/yob1998.csv\"\n",
    "yob1999 = \"DATA SET/yob1999.csv\"\n",
    "yob2000 = \"DATA SET/yob2000.csv\"\n",
    "yob2001 = \"DATA SET/yob2001.csv\"\n",
    "yob2002 = \"DATA SET/yob2002.csv\"\n",
    "yob2003 = \"DATA SET/yob2003.csv\"\n",
    "yob2004 = \"DATA SET/yob2004.csv\"\n",
    "yob2005 = \"DATA SET/yob2005.csv\"\n",
    "yob2006 = \"DATA SET/yob2006.csv\"\n",
    "yob2007 = \"DATA SET/yob2007.csv\"\n",
    "yob2008 = \"DATA SET/yob2008.csv\"\n",
    "yob2009 = \"DATA SET/yob2009.csv\"\n",
    "yob2010 = \"DATA SET/yob2010.csv\"\n",
    "yob2011 = \"DATA SET/yob2011.csv\"\n",
    "yob2012 = \"DATA SET/yob2012.csv\"\n",
    "yob2013 = \"DATA SET/yob2013.csv\"\n",
    "yob2014 = \"DATA SET/yob2014.csv\"\n",
    "yob2015 = \"DATA SET/yob2015.csv\"\n",
    "yob2016 = \"DATA SET/yob2016.csv\"\n",
    "yob2017 = \"DATA SET/yob2017.csv\"\n",
    "yob2018 = \"DATA SET/yob2018.csv\"\n",
    "\n",
    "yob1991_df = pd.read_csv(yob1991)\n",
    "yob1992_df = pd.read_csv(yob1992)\n",
    "yob1993_df = pd.read_csv(yob1993)\n",
    "yob1994_df = pd.read_csv(yob1994)\n",
    "yob1995_df = pd.read_csv(yob1995)\n",
    "yob1996_df = pd.read_csv(yob1996)\n",
    "yob1997_df = pd.read_csv(yob1997)\n",
    "yob1998_df = pd.read_csv(yob1998)\n",
    "yob1999_df = pd.read_csv(yob1999)\n",
    "yob2000_df = pd.read_csv(yob2000)\n",
    "yob2001_df = pd.read_csv(yob2001)\n",
    "yob2002_df = pd.read_csv(yob2002)\n",
    "yob2003_df = pd.read_csv(yob2003)\n",
    "yob2004_df = pd.read_csv(yob2004)\n",
    "yob2005_df = pd.read_csv(yob2005)\n",
    "yob2006_df = pd.read_csv(yob2006)\n",
    "yob2007_df = pd.read_csv(yob2007)\n",
    "yob2008_df = pd.read_csv(yob2008)\n",
    "yob2009_df = pd.read_csv(yob2009)\n",
    "yob2010_df = pd.read_csv(yob2010)\n",
    "yob2011_df = pd.read_csv(yob2011)\n",
    "yob2012_df = pd.read_csv(yob2012)\n",
    "yob2013_df = pd.read_csv(yob2013)\n",
    "yob2014_df = pd.read_csv(yob2014)\n",
    "yob2015_df = pd.read_csv(yob2015)\n",
    "yob2016_df = pd.read_csv(yob2016)\n",
    "yob2017_df = pd.read_csv(yob2017)\n",
    "yob2018_df = pd.read_csv(yob2018)\n"
   ]
  },
  {
   "cell_type": "code",
   "execution_count": null,
   "metadata": {},
   "outputs": [],
   "source": []
  }
 ],
 "metadata": {
  "kernelspec": {
   "display_name": "Python 3",
   "language": "python",
   "name": "python3"
  },
  "language_info": {
   "codemirror_mode": {
    "name": "ipython",
    "version": 3
   },
   "file_extension": ".py",
   "mimetype": "text/x-python",
   "name": "python",
   "nbconvert_exporter": "python",
   "pygments_lexer": "ipython3",
   "version": "3.6.8"
  },
  "varInspector": {
   "cols": {
    "lenName": 16,
    "lenType": 16,
    "lenVar": 40
   },
   "kernels_config": {
    "python": {
     "delete_cmd_postfix": "",
     "delete_cmd_prefix": "del ",
     "library": "var_list.py",
     "varRefreshCmd": "print(var_dic_list())"
    },
    "r": {
     "delete_cmd_postfix": ") ",
     "delete_cmd_prefix": "rm(",
     "library": "var_list.r",
     "varRefreshCmd": "cat(var_dic_list()) "
    }
   },
   "types_to_exclude": [
    "module",
    "function",
    "builtin_function_or_method",
    "instance",
    "_Feature"
   ],
   "window_display": false
  }
 },
 "nbformat": 4,
 "nbformat_minor": 2
}
